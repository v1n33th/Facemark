{
 "cells": [
  {
   "cell_type": "code",
   "execution_count": 1,
   "id": "775b40f2",
   "metadata": {},
   "outputs": [],
   "source": [
    "import tensorflow as tf"
   ]
  },
  {
   "cell_type": "code",
   "execution_count": 2,
   "id": "c1626e16",
   "metadata": {},
   "outputs": [],
   "source": [
    "datagen = tf.keras.preprocessing.image.ImageDataGenerator(\n",
    "    rescale = 1/255,\n",
    "    brightness_range=[0.7, 1.3],\n",
    "    rotation_range = 30\n",
    ")"
   ]
  },
  {
   "cell_type": "code",
   "execution_count": 3,
   "id": "62221c93",
   "metadata": {},
   "outputs": [
    {
     "name": "stdout",
     "output_type": "stream",
     "text": [
      "Found 2030 images belonging to 5 classes.\n"
     ]
    }
   ],
   "source": [
    "train_generator = datagen.flow_from_directory(\n",
    "    directory=r\"New_Data/train\",\n",
    "    target_size=(250, 250),\n",
    "    color_mode=\"rgb\",\n",
    "    batch_size=32,\n",
    "    class_mode=\"categorical\",\n",
    "    shuffle=True,\n",
    "    seed=42\n",
    ")"
   ]
  },
  {
   "cell_type": "code",
   "execution_count": 4,
   "id": "b74b7a90",
   "metadata": {},
   "outputs": [
    {
     "name": "stdout",
     "output_type": "stream",
     "text": [
      "Found 554 images belonging to 5 classes.\n"
     ]
    }
   ],
   "source": [
    "valid_generator = datagen.flow_from_directory(\n",
    "    directory=r\"New_Data/test/\",\n",
    "    target_size=(250, 250),\n",
    "    color_mode=\"rgb\",\n",
    "    batch_size=32,\n",
    "    class_mode=\"categorical\",\n",
    "    shuffle=True,\n",
    "    seed=42\n",
    ")"
   ]
  },
  {
   "cell_type": "code",
   "execution_count": 5,
   "id": "00450d9b",
   "metadata": {},
   "outputs": [],
   "source": [
    "from tensorflow.keras.applications.vgg16 import VGG16\n",
    "from tensorflow.keras.applications.vgg16 import preprocess_input\n",
    "\n",
    "base_model = VGG16(weights=\"imagenet\", include_top=False, input_shape=(250, 250, 3))\n",
    "base_model.trainable = False "
   ]
  },
  {
   "cell_type": "code",
   "execution_count": 6,
   "id": "eceaa8a0",
   "metadata": {},
   "outputs": [
    {
     "name": "stdout",
     "output_type": "stream",
     "text": [
      "Model: \"vgg16\"\n",
      "_________________________________________________________________\n",
      " Layer (type)                Output Shape              Param #   \n",
      "=================================================================\n",
      " input_1 (InputLayer)        [(None, 250, 250, 3)]     0         \n",
      "                                                                 \n",
      " block1_conv1 (Conv2D)       (None, 250, 250, 64)      1792      \n",
      "                                                                 \n",
      " block1_conv2 (Conv2D)       (None, 250, 250, 64)      36928     \n",
      "                                                                 \n",
      " block1_pool (MaxPooling2D)  (None, 125, 125, 64)      0         \n",
      "                                                                 \n",
      " block2_conv1 (Conv2D)       (None, 125, 125, 128)     73856     \n",
      "                                                                 \n",
      " block2_conv2 (Conv2D)       (None, 125, 125, 128)     147584    \n",
      "                                                                 \n",
      " block2_pool (MaxPooling2D)  (None, 62, 62, 128)       0         \n",
      "                                                                 \n",
      " block3_conv1 (Conv2D)       (None, 62, 62, 256)       295168    \n",
      "                                                                 \n",
      " block3_conv2 (Conv2D)       (None, 62, 62, 256)       590080    \n",
      "                                                                 \n",
      " block3_conv3 (Conv2D)       (None, 62, 62, 256)       590080    \n",
      "                                                                 \n",
      " block3_pool (MaxPooling2D)  (None, 31, 31, 256)       0         \n",
      "                                                                 \n",
      " block4_conv1 (Conv2D)       (None, 31, 31, 512)       1180160   \n",
      "                                                                 \n",
      " block4_conv2 (Conv2D)       (None, 31, 31, 512)       2359808   \n",
      "                                                                 \n",
      " block4_conv3 (Conv2D)       (None, 31, 31, 512)       2359808   \n",
      "                                                                 \n",
      " block4_pool (MaxPooling2D)  (None, 15, 15, 512)       0         \n",
      "                                                                 \n",
      " block5_conv1 (Conv2D)       (None, 15, 15, 512)       2359808   \n",
      "                                                                 \n",
      " block5_conv2 (Conv2D)       (None, 15, 15, 512)       2359808   \n",
      "                                                                 \n",
      " block5_conv3 (Conv2D)       (None, 15, 15, 512)       2359808   \n",
      "                                                                 \n",
      " block5_pool (MaxPooling2D)  (None, 7, 7, 512)         0         \n",
      "                                                                 \n",
      "=================================================================\n",
      "Total params: 14,714,688\n",
      "Trainable params: 0\n",
      "Non-trainable params: 14,714,688\n",
      "_________________________________________________________________\n"
     ]
    }
   ],
   "source": [
    "base_model.summary()"
   ]
  },
  {
   "cell_type": "code",
   "execution_count": 7,
   "id": "52adf6b5",
   "metadata": {},
   "outputs": [],
   "source": [
    "from tensorflow.keras import layers, models\n",
    "\n",
    "flatten_layer = layers.Flatten()\n",
    "dense_layer_1 = layers.Dense(50, activation='relu')\n",
    "dense_layer_2 = layers.Dense(20, activation='relu')\n",
    "prediction_layer = layers.Dense(5, activation='softmax')\n",
    "\n",
    "\n",
    "model = models.Sequential([\n",
    "    base_model,\n",
    "    flatten_layer,\n",
    "    dense_layer_1,\n",
    "    dense_layer_2,\n",
    "    prediction_layer\n",
    "])"
   ]
  },
  {
   "cell_type": "code",
   "execution_count": 8,
   "id": "a507702c",
   "metadata": {},
   "outputs": [
    {
     "name": "stdout",
     "output_type": "stream",
     "text": [
      "Model: \"sequential\"\n",
      "_________________________________________________________________\n",
      " Layer (type)                Output Shape              Param #   \n",
      "=================================================================\n",
      " vgg16 (Functional)          (None, 7, 7, 512)         14714688  \n",
      "                                                                 \n",
      " flatten (Flatten)           (None, 25088)             0         \n",
      "                                                                 \n",
      " dense (Dense)               (None, 50)                1254450   \n",
      "                                                                 \n",
      " dense_1 (Dense)             (None, 20)                1020      \n",
      "                                                                 \n",
      " dense_2 (Dense)             (None, 5)                 105       \n",
      "                                                                 \n",
      "=================================================================\n",
      "Total params: 15,970,263\n",
      "Trainable params: 1,255,575\n",
      "Non-trainable params: 14,714,688\n",
      "_________________________________________________________________\n"
     ]
    }
   ],
   "source": [
    "model.summary()"
   ]
  },
  {
   "cell_type": "code",
   "execution_count": 9,
   "id": "9650da01",
   "metadata": {},
   "outputs": [],
   "source": [
    "from tensorflow.keras.callbacks import EarlyStopping\n",
    "\n",
    "model.compile(\n",
    "    optimizer='adam',\n",
    "    loss='categorical_crossentropy',\n",
    "    metrics=['accuracy'],\n",
    ")\n",
    "\n",
    "\n",
    "es = EarlyStopping(monitor='val_accuracy', mode='max', patience=5,  restore_best_weights=True)"
   ]
  },
  {
   "cell_type": "code",
   "execution_count": 10,
   "id": "51a74212",
   "metadata": {},
   "outputs": [
    {
     "name": "stdout",
     "output_type": "stream",
     "text": [
      "Epoch 1/50\n",
      "63/63 [==============================] - 48s 577ms/step - loss: 0.8946 - accuracy: 0.6777 - val_loss: 0.3606 - val_accuracy: 0.9320\n",
      "Epoch 2/50\n",
      "63/63 [==============================] - 33s 530ms/step - loss: 0.2283 - accuracy: 0.9560 - val_loss: 0.1135 - val_accuracy: 0.9724\n",
      "Epoch 3/50\n",
      "63/63 [==============================] - 34s 535ms/step - loss: 0.0784 - accuracy: 0.9870 - val_loss: 0.0747 - val_accuracy: 0.9908\n",
      "Epoch 4/50\n",
      "63/63 [==============================] - 34s 536ms/step - loss: 0.0508 - accuracy: 0.9935 - val_loss: 0.0380 - val_accuracy: 0.9926\n",
      "Epoch 5/50\n",
      "63/63 [==============================] - 34s 534ms/step - loss: 0.0289 - accuracy: 0.9965 - val_loss: 0.0256 - val_accuracy: 0.9945\n",
      "Epoch 6/50\n",
      "63/63 [==============================] - 33s 530ms/step - loss: 0.0176 - accuracy: 0.9990 - val_loss: 0.0190 - val_accuracy: 0.9982\n",
      "Epoch 7/50\n",
      "63/63 [==============================] - 33s 527ms/step - loss: 0.0152 - accuracy: 0.9990 - val_loss: 0.0122 - val_accuracy: 0.9982\n",
      "Epoch 8/50\n",
      "63/63 [==============================] - 34s 530ms/step - loss: 0.0110 - accuracy: 1.0000 - val_loss: 0.0160 - val_accuracy: 0.9963\n",
      "Epoch 9/50\n",
      "63/63 [==============================] - 33s 528ms/step - loss: 0.0113 - accuracy: 0.9985 - val_loss: 0.0128 - val_accuracy: 0.9982\n",
      "Epoch 10/50\n",
      "63/63 [==============================] - 33s 528ms/step - loss: 0.0076 - accuracy: 0.9990 - val_loss: 0.0148 - val_accuracy: 0.9945\n",
      "Epoch 11/50\n",
      "63/63 [==============================] - 33s 528ms/step - loss: 0.0063 - accuracy: 1.0000 - val_loss: 0.0070 - val_accuracy: 1.0000\n",
      "Epoch 12/50\n",
      "63/63 [==============================] - 34s 533ms/step - loss: 0.0046 - accuracy: 1.0000 - val_loss: 0.0031 - val_accuracy: 1.0000\n",
      "Epoch 13/50\n",
      "63/63 [==============================] - 34s 533ms/step - loss: 0.0068 - accuracy: 0.9985 - val_loss: 0.0214 - val_accuracy: 0.9963\n",
      "Epoch 14/50\n",
      "63/63 [==============================] - 34s 532ms/step - loss: 0.0108 - accuracy: 0.9975 - val_loss: 0.0061 - val_accuracy: 1.0000\n",
      "Epoch 15/50\n",
      "63/63 [==============================] - 34s 532ms/step - loss: 0.0060 - accuracy: 0.9990 - val_loss: 0.0027 - val_accuracy: 1.0000\n",
      "Epoch 16/50\n",
      "63/63 [==============================] - 34s 540ms/step - loss: 0.0021 - accuracy: 1.0000 - val_loss: 0.0070 - val_accuracy: 1.0000\n"
     ]
    }
   ],
   "source": [
    "STEP_SIZE_TRAIN=train_generator.n//train_generator.batch_size\n",
    "STEP_SIZE_VALID=valid_generator.n//valid_generator.batch_size\n",
    "\n",
    "history = model.fit(train_generator,\n",
    "                    steps_per_epoch=STEP_SIZE_TRAIN,\n",
    "                    validation_data=valid_generator,\n",
    "                    validation_steps=STEP_SIZE_VALID,\n",
    "                    epochs=50,\n",
    "                    callbacks=[es]\n",
    ")"
   ]
  },
  {
   "cell_type": "code",
   "execution_count": 11,
   "id": "3c5f54b5",
   "metadata": {},
   "outputs": [],
   "source": [
    "import matplotlib.pyplot as plt"
   ]
  },
  {
   "cell_type": "code",
   "execution_count": 13,
   "id": "c148a46b",
   "metadata": {},
   "outputs": [
    {
     "data": {
      "image/png": "[encoded data removed]",
      "text/plain": [
       "<Figure size 432x288 with 1 Axes>"
      ]
     },
     "metadata": {
      "needs_background": "light"
     },
     "output_type": "display_data"
    }
   ],
   "source": [
    "plt.plot(history.history['accuracy'], label=\"train_accuracy\")\n",
    "plt.plot(history.history['val_accuracy'], label=\"test_accuracy\")\n",
    "plt.legend(loc=4)\n",
    "plt.show()"
   ]
  },
  {
   "cell_type": "code",
   "execution_count": 14,
   "id": "1b0b4716",
   "metadata": {},
   "outputs": [
    {
     "data": {
      "image/png": "[encoded data removed]",
      "text/plain": [
       "<Figure size 432x288 with 1 Axes>"
      ]
     },
     "metadata": {
      "needs_background": "light"
     },
     "output_type": "display_data"
    }
   ],
   "source": [
    "plt.plot(history.history['loss'], label=\"train_loss\")\n",
    "plt.plot(history.history['val_loss'], label=\"test_loss\")\n",
    "plt.legend(loc=1)\n",
    "plt.show()"
   ]
  },
  {
   "cell_type": "code",
   "execution_count": 12,
   "id": "0e608798",
   "metadata": {},
   "outputs": [],
   "source": [
    "model.save('face_rec.h5')"
   ]
  },
  {
   "cell_type": "code",
   "execution_count": 15,
   "id": "5ce19f5e",
   "metadata": {},
   "outputs": [
    {
     "name": "stdout",
     "output_type": "stream",
     "text": [
      "18/18 [==============================] - 9s 478ms/step - loss: 0.0066 - accuracy: 1.0000\n"
     ]
    },
    {
     "data": {
      "text/plain": [
       "[0.006610911339521408, 1.0]"
      ]
     },
     "execution_count": 15,
     "metadata": {},
     "output_type": "execute_result"
    }
   ],
   "source": [
    "model.evaluate(valid_generator)"
   ]
  },
  {
   "cell_type": "code",
   "execution_count": 14,
   "id": "b3b524f2",
   "metadata": {},
   "outputs": [],
   "source": [
    "from PIL import Image"
   ]
  },
  {
   "cell_type": "code",
   "execution_count": 15,
   "id": "82bcda7c",
   "metadata": {},
   "outputs": [],
   "source": [
    "import numpy as np"
   ]
  },
  {
   "cell_type": "code",
   "execution_count": 16,
   "id": "02895248",
   "metadata": {},
   "outputs": [],
   "source": [
    "def predict(img, model):\n",
    "    image = Image.open(img)\n",
    "    imagearr = np.asarray(image)\n",
    "    imagearr = np.asarray([imagearr/255])\n",
    "    label = np.argmax(model.predict(imagearr))\n",
    "    return(label)"
   ]
  },
  {
   "cell_type": "code",
   "execution_count": 17,
   "id": "fc1fe8c5",
   "metadata": {},
   "outputs": [
    {
     "name": "stdout",
     "output_type": "stream",
     "text": [
      "1/1 [==============================] - 1s 1s/step\n"
     ]
    },
    {
     "data": {
      "text/plain": [
       "0"
      ]
     },
     "execution_count": 17,
     "metadata": {},
     "output_type": "execute_result"
    }
   ],
   "source": [
    "img = 'New_Data/test/Alfred/Alfreda2ccec88-ad67-436e-9274-b76a8c02ffe1.jpg'\n",
    "predict(img, model)"
   ]
  },
  {
   "cell_type": "code",
   "execution_count": 18,
   "id": "f35f2041",
   "metadata": {},
   "outputs": [
    {
     "name": "stdout",
     "output_type": "stream",
     "text": [
      "1/1 [==============================] - 0s 18ms/step\n"
     ]
    },
    {
     "data": {
      "text/plain": [
       "1"
      ]
     },
     "execution_count": 18,
     "metadata": {},
     "output_type": "execute_result"
    }
   ],
   "source": [
    "predict('New_Data/test/Lijo/Lijocd4b0d83-c494-4017-aea4-d3cd913fe3e4.jpg', model)"
   ]
  },
  {
   "cell_type": "code",
   "execution_count": 19,
   "id": "2cfd3763",
   "metadata": {},
   "outputs": [
    {
     "name": "stdout",
     "output_type": "stream",
     "text": [
      "1/1 [==============================] - 0s 21ms/step\n"
     ]
    },
    {
     "data": {
      "text/plain": [
       "3"
      ]
     },
     "execution_count": 19,
     "metadata": {},
     "output_type": "execute_result"
    }
   ],
   "source": [
    "img = 'New_Data/test/Vineeth/Vineethdf932a0f-814f-47b0-91fe-c8d7df4d460b.jpg'\n",
    "predict(img, model)"
   ]
  },
  {
   "cell_type": "code",
   "execution_count": 20,
   "id": "0342090e",
   "metadata": {},
   "outputs": [
    {
     "data": {
      "text/plain": [
       "{'Alfred': 0, 'Lijo': 1, 'Sarath': 2, 'Vineeth': 3, 'sharu': 4}"
      ]
     },
     "execution_count": 20,
     "metadata": {},
     "output_type": "execute_result"
    }
   ],
   "source": [
    "train_generator.class_indices"
   ]
  },
  {
   "cell_type": "code",
   "execution_count": null,
   "id": "9ba1b611",
   "metadata": {},
   "outputs": [],
   "source": []
  }
 ],
 "metadata": {
  "kernelspec": {
   "display_name": "Python 3 (ipykernel)",
   "language": "python",
   "name": "python3"
  },
  "language_info": {
   "codemirror_mode": {
    "name": "ipython",
    "version": 3
   },
   "file_extension": ".py",
   "mimetype": "text/x-python",
   "name": "python",
   "nbconvert_exporter": "python",
   "pygments_lexer": "ipython3",
   "version": "3.8.12"
  }
 },
 "nbformat": 4,
 "nbformat_minor": 5
}
